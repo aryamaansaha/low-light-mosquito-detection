{
 "cells": [
  {
   "cell_type": "code",
   "execution_count": null,
   "metadata": {},
   "outputs": [],
   "source": [
    "from SSD.dataset import MosquitoDataset\n",
    "from model import build_SSD\n",
    "from train import train\n",
    "\n",
    "import torch\n",
    "from torch.utils.data import DataLoader\n"
   ]
  },
  {
   "cell_type": "code",
   "execution_count": null,
   "metadata": {},
   "outputs": [],
   "source": [
    "datafolder = \"simple_dataset\"\n",
    "batch_size = 8\n",
    "images_dir = f\"../datasets/{datafolder}/images\"\n",
    "labels_dir = f\"../datasets/{datafolder}/labels\"\n",
    "\n",
    "train_dataset = MosquitoDataset(f\"{images_dir}/train\", f\"{labels_dir}/train\", img_size=300)\n",
    "val_dataset = MosquitoDataset(f\"{images_dir}/val\", f\"{labels_dir}/val\", img_size=300)\n",
    "test_dataset = MosquitoDataset(f\"{images_dir}/test\", f\"{labels_dir}/test\", img_size=300)\n",
    "\n",
    "trainloader = DataLoader(train_dataset, batch_size=batch_size, shuffle=True, collate_fn=lambda x: tuple(zip(*x)))\n",
    "valloader = DataLoader(val_dataset, batch_size=batch_size, shuffle=False, collate_fn=lambda x: tuple(zip(*x)))\n",
    "testloader = DataLoader(test_dataset, batch_size=batch_size, shuffle=False, collate_fn=lambda x: tuple(zip(*x)))"
   ]
  },
  {
   "cell_type": "code",
   "execution_count": null,
   "metadata": {},
   "outputs": [],
   "source": [
    "model = build_SSD(num_classes=7) # 6 mosquito classes + 1 background\n",
    "optimizer = torch.optim.SGD(model.parameters(), lr=0.001, momentum=0.9, weight_decay=0.0005)\n",
    "scheduler = torch.optim.lr_scheduler.StepLR(optimizer, step_size=3, gamma=0.1)"
   ]
  },
  {
   "cell_type": "code",
   "execution_count": null,
   "metadata": {},
   "outputs": [],
   "source": [
    "N_epochs = 10\n",
    "save_dir = f\"models/{datafolder}/\"\n",
    "device = torch.device(\"cuda\" if torch.cuda.is_available() else \"cpu\")\n",
    "train_losses, val_losses, lr_history =  train(\n",
    "    model=model,\n",
    "    optimizer=optimizer,\n",
    "    scheduler=scheduler,\n",
    "    trainloader=trainloader,\n",
    "    valloader=valloader,\n",
    "    device=device,\n",
    "    N_epochs=N_epochs,\n",
    "    save_dir=save_dir,\n",
    "    save_name=\"best_model.pth\"\n",
    ")"
   ]
  },
  {
   "cell_type": "code",
   "execution_count": null,
   "metadata": {},
   "outputs": [],
   "source": [
    "model.load_state_dict(torch.load(f\"{save_dir}/best_model.pth\"))"
   ]
  },
  {
   "cell_type": "code",
   "execution_count": null,
   "metadata": {},
   "outputs": [],
   "source": []
  }
 ],
 "metadata": {
  "kernelspec": {
   "display_name": "yolo_env",
   "language": "python",
   "name": "python3"
  },
  "language_info": {
   "name": "python",
   "version": "3.12.3"
  }
 },
 "nbformat": 4,
 "nbformat_minor": 2
}
